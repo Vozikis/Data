{
 "cells": [
  {
   "cell_type": "markdown",
   "metadata": {
    "id": "bhWV8oes-wKR"
   },
   "source": [
    "# COURSE: Improving data quality in data analytics & machine learning\n",
    "## SECTION: Data transformations\n",
    "### LECTURE: Code: Transforming data\n",
    "#### TEACHER: Mike X Cohen, sincxpress.com\n",
    "##### COURSE URL: udemy.com/course/dataquality_x/?couponCode=202204"
   ]
  },
  {
   "cell_type": "code",
   "execution_count": 1,
   "metadata": {
    "id": "7oCtFP6M3DLi"
   },
   "outputs": [],
   "source": [
    "# import libraries\n",
    "\n",
    "import numpy as np\n",
    "import matplotlib.pyplot as plt\n",
    "import pandas as pd\n",
    "import seaborn as sns"
   ]
  },
  {
   "cell_type": "markdown",
   "metadata": {
    "id": "01zPi2S16cWS"
   },
   "source": [
    "# Z-score scaling"
   ]
  },
  {
   "cell_type": "code",
   "execution_count": 4,
   "metadata": {
    "id": "3s0VAZRx3qJU"
   },
   "outputs": [
    {
     "data": {
      "text/html": [
       "<div>\n",
       "<style scoped>\n",
       "    .dataframe tbody tr th:only-of-type {\n",
       "        vertical-align: middle;\n",
       "    }\n",
       "\n",
       "    .dataframe tbody tr th {\n",
       "        vertical-align: top;\n",
       "    }\n",
       "\n",
       "    .dataframe thead th {\n",
       "        text-align: right;\n",
       "    }\n",
       "</style>\n",
       "<table border=\"1\" class=\"dataframe\">\n",
       "  <thead>\n",
       "    <tr style=\"text-align: right;\">\n",
       "      <th></th>\n",
       "      <th>var1</th>\n",
       "      <th>var2</th>\n",
       "      <th>var3</th>\n",
       "    </tr>\n",
       "  </thead>\n",
       "  <tbody>\n",
       "    <tr>\n",
       "      <th>count</th>\n",
       "      <td>20.000000</td>\n",
       "      <td>20.000000</td>\n",
       "      <td>21.000000</td>\n",
       "    </tr>\n",
       "    <tr>\n",
       "      <th>mean</th>\n",
       "      <td>-1.100000</td>\n",
       "      <td>25.450000</td>\n",
       "      <td>4.095238</td>\n",
       "    </tr>\n",
       "    <tr>\n",
       "      <th>std</th>\n",
       "      <td>10.356285</td>\n",
       "      <td>29.770128</td>\n",
       "      <td>10.676632</td>\n",
       "    </tr>\n",
       "    <tr>\n",
       "      <th>min</th>\n",
       "      <td>-20.000000</td>\n",
       "      <td>-14.000000</td>\n",
       "      <td>-15.000000</td>\n",
       "    </tr>\n",
       "    <tr>\n",
       "      <th>25%</th>\n",
       "      <td>-7.750000</td>\n",
       "      <td>10.750000</td>\n",
       "      <td>-5.000000</td>\n",
       "    </tr>\n",
       "    <tr>\n",
       "      <th>50%</th>\n",
       "      <td>0.500000</td>\n",
       "      <td>24.000000</td>\n",
       "      <td>3.000000</td>\n",
       "    </tr>\n",
       "    <tr>\n",
       "      <th>75%</th>\n",
       "      <td>5.250000</td>\n",
       "      <td>29.500000</td>\n",
       "      <td>12.000000</td>\n",
       "    </tr>\n",
       "    <tr>\n",
       "      <th>max</th>\n",
       "      <td>15.000000</td>\n",
       "      <td>129.000000</td>\n",
       "      <td>27.000000</td>\n",
       "    </tr>\n",
       "  </tbody>\n",
       "</table>\n",
       "</div>"
      ],
      "text/plain": [
       "            var1        var2       var3\n",
       "count  20.000000   20.000000  21.000000\n",
       "mean   -1.100000   25.450000   4.095238\n",
       "std    10.356285   29.770128  10.676632\n",
       "min   -20.000000  -14.000000 -15.000000\n",
       "25%    -7.750000   10.750000  -5.000000\n",
       "50%     0.500000   24.000000   3.000000\n",
       "75%     5.250000   29.500000  12.000000\n",
       "max    15.000000  129.000000  27.000000"
      ]
     },
     "execution_count": 4,
     "metadata": {},
     "output_type": "execute_result"
    }
   ],
   "source": [
    "# import the data from the web\n",
    "url = \"https://sincxpress.com/sampledata.csv\"\n",
    "df = pd.read_csv(url)\n",
    "\n",
    "df.describe()#it's always a good idea to look at the data before starting. df.describe() is a great function"
   ]
  },
  {
   "cell_type": "code",
   "execution_count": 5,
   "metadata": {
    "id": "4FyQXkOx4TMI"
   },
   "outputs": [
    {
     "name": "stderr",
     "output_type": "stream",
     "text": [
      "/Users/antonis/miniforge3/envs/env_test/lib/python3.8/site-packages/seaborn/categorical.py:166: FutureWarning: Setting a gradient palette using color= is deprecated and will be removed in version 0.13. Set `palette='dark:k'` for same effect.\n",
      "  warnings.warn(msg, FutureWarning)\n"
     ]
    },
    {
     "data": {
      "image/png": "[encoded data removed]",
      "text/plain": [
       "<Figure size 640x480 with 1 Axes>"
      ]
     },
     "metadata": {},
     "output_type": "display_data"
    }
   ],
   "source": [
    "sns.boxplot(data=df, palette='Purples')\n",
    "sns.stripplot(data=df,marker='.',color='k');"
   ]
  },
  {
   "cell_type": "code",
   "execution_count": 8,
   "metadata": {
    "id": "jdh0nXDKV3iz"
   },
   "outputs": [],
   "source": [
    "# Now z-score!\n",
    "df_z = (df - df.mean(skipna=True)) / df.std(ddof=1)\n",
    "#skipna=True will skip nan values. it's also the default value\n",
    "#ddof = denominator degrees of freedom\n",
    "#pandas default is 1. more statistically appropriate\n",
    "#numpy default is 0\n",
    "\n",
    "# note: skipna=True is default!"
   ]
  },
  {
   "cell_type": "code",
   "execution_count": 9,
   "metadata": {
    "id": "IHkaol28UY8i"
   },
   "outputs": [
    {
     "name": "stderr",
     "output_type": "stream",
     "text": [
      "/Users/antonis/miniforge3/envs/env_test/lib/python3.8/site-packages/seaborn/categorical.py:166: FutureWarning: Setting a gradient palette using color= is deprecated and will be removed in version 0.13. Set `palette='dark:k'` for same effect.\n",
      "  warnings.warn(msg, FutureWarning)\n"
     ]
    },
    {
     "data": {
      "text/html": [
       "<div>\n",
       "<style scoped>\n",
       "    .dataframe tbody tr th:only-of-type {\n",
       "        vertical-align: middle;\n",
       "    }\n",
       "\n",
       "    .dataframe tbody tr th {\n",
       "        vertical-align: top;\n",
       "    }\n",
       "\n",
       "    .dataframe thead th {\n",
       "        text-align: right;\n",
       "    }\n",
       "</style>\n",
       "<table border=\"1\" class=\"dataframe\">\n",
       "  <thead>\n",
       "    <tr style=\"text-align: right;\">\n",
       "      <th></th>\n",
       "      <th>var1</th>\n",
       "      <th>var2</th>\n",
       "      <th>var3</th>\n",
       "    </tr>\n",
       "  </thead>\n",
       "  <tbody>\n",
       "    <tr>\n",
       "      <th>count</th>\n",
       "      <td>2.000000e+01</td>\n",
       "      <td>2.000000e+01</td>\n",
       "      <td>2.100000e+01</td>\n",
       "    </tr>\n",
       "    <tr>\n",
       "      <th>mean</th>\n",
       "      <td>1.942890e-17</td>\n",
       "      <td>8.326673e-18</td>\n",
       "      <td>1.776026e-17</td>\n",
       "    </tr>\n",
       "    <tr>\n",
       "      <th>std</th>\n",
       "      <td>1.000000e+00</td>\n",
       "      <td>1.000000e+00</td>\n",
       "      <td>1.000000e+00</td>\n",
       "    </tr>\n",
       "    <tr>\n",
       "      <th>min</th>\n",
       "      <td>-1.824979e+00</td>\n",
       "      <td>-1.325154e+00</td>\n",
       "      <td>-1.788508e+00</td>\n",
       "    </tr>\n",
       "    <tr>\n",
       "      <th>25%</th>\n",
       "      <td>-6.421222e-01</td>\n",
       "      <td>-4.937836e-01</td>\n",
       "      <td>-8.518827e-01</td>\n",
       "    </tr>\n",
       "    <tr>\n",
       "      <th>50%</th>\n",
       "      <td>1.544956e-01</td>\n",
       "      <td>-4.870654e-02</td>\n",
       "      <td>-1.025827e-01</td>\n",
       "    </tr>\n",
       "    <tr>\n",
       "      <th>75%</th>\n",
       "      <td>6.131543e-01</td>\n",
       "      <td>1.360424e-01</td>\n",
       "      <td>7.403797e-01</td>\n",
       "    </tr>\n",
       "    <tr>\n",
       "      <th>max</th>\n",
       "      <td>1.554612e+00</td>\n",
       "      <td>3.478319e+00</td>\n",
       "      <td>2.145317e+00</td>\n",
       "    </tr>\n",
       "  </tbody>\n",
       "</table>\n",
       "</div>"
      ],
      "text/plain": [
       "               var1          var2          var3\n",
       "count  2.000000e+01  2.000000e+01  2.100000e+01\n",
       "mean   1.942890e-17  8.326673e-18  1.776026e-17\n",
       "std    1.000000e+00  1.000000e+00  1.000000e+00\n",
       "min   -1.824979e+00 -1.325154e+00 -1.788508e+00\n",
       "25%   -6.421222e-01 -4.937836e-01 -8.518827e-01\n",
       "50%    1.544956e-01 -4.870654e-02 -1.025827e-01\n",
       "75%    6.131543e-01  1.360424e-01  7.403797e-01\n",
       "max    1.554612e+00  3.478319e+00  2.145317e+00"
      ]
     },
     "execution_count": 9,
     "metadata": {},
     "output_type": "execute_result"
    },
    {
     "data": {
      "image/png": "[encoded data removed]",
      "text/plain": [
       "<Figure size 640x480 with 1 Axes>"
      ]
     },
     "metadata": {},
     "output_type": "display_data"
    }
   ],
   "source": [
    "# now describe/plot again\n",
    "\n",
    "sns.boxplot(data=df_z, palette='Purples')\n",
    "sns.stripplot(data=df_z,marker='.',color='k')\n",
    "\n",
    "df_z.describe()"
   ]
  },
  {
   "cell_type": "code",
   "execution_count": null,
   "metadata": {
    "id": "yBuc1y-1UqU2"
   },
   "outputs": [],
   "source": []
  },
  {
   "cell_type": "markdown",
   "metadata": {
    "id": "ru7M-LMv69W6"
   },
   "source": [
    "# Min/max scaling"
   ]
  },
  {
   "cell_type": "code",
   "execution_count": 12,
   "metadata": {
    "id": "YcjVV7QG69ZT"
   },
   "outputs": [],
   "source": [
    "# in pandas\n",
    "#between 0-1\n",
    "# start by getting min/max values per column\n",
    "dmax = df.max()\n",
    "dmin = df.min()\n",
    "\n",
    "df_mm = (df-dmin) / (dmax-dmin)"
   ]
  },
  {
   "cell_type": "code",
   "execution_count": 13,
   "metadata": {
    "id": "qk34B5RfYQ7Y"
   },
   "outputs": [
    {
     "name": "stderr",
     "output_type": "stream",
     "text": [
      "/Users/antonis/miniforge3/envs/env_test/lib/python3.8/site-packages/seaborn/categorical.py:166: FutureWarning: Setting a gradient palette using color= is deprecated and will be removed in version 0.13. Set `palette='dark:k'` for same effect.\n",
      "  warnings.warn(msg, FutureWarning)\n"
     ]
    },
    {
     "data": {
      "text/html": [
       "<div>\n",
       "<style scoped>\n",
       "    .dataframe tbody tr th:only-of-type {\n",
       "        vertical-align: middle;\n",
       "    }\n",
       "\n",
       "    .dataframe tbody tr th {\n",
       "        vertical-align: top;\n",
       "    }\n",
       "\n",
       "    .dataframe thead th {\n",
       "        text-align: right;\n",
       "    }\n",
       "</style>\n",
       "<table border=\"1\" class=\"dataframe\">\n",
       "  <thead>\n",
       "    <tr style=\"text-align: right;\">\n",
       "      <th></th>\n",
       "      <th>var1</th>\n",
       "      <th>var2</th>\n",
       "      <th>var3</th>\n",
       "    </tr>\n",
       "  </thead>\n",
       "  <tbody>\n",
       "    <tr>\n",
       "      <th>count</th>\n",
       "      <td>20.000000</td>\n",
       "      <td>20.000000</td>\n",
       "      <td>21.000000</td>\n",
       "    </tr>\n",
       "    <tr>\n",
       "      <th>mean</th>\n",
       "      <td>0.540000</td>\n",
       "      <td>0.275874</td>\n",
       "      <td>0.454649</td>\n",
       "    </tr>\n",
       "    <tr>\n",
       "      <th>std</th>\n",
       "      <td>0.295894</td>\n",
       "      <td>0.208183</td>\n",
       "      <td>0.254206</td>\n",
       "    </tr>\n",
       "    <tr>\n",
       "      <th>min</th>\n",
       "      <td>0.000000</td>\n",
       "      <td>0.000000</td>\n",
       "      <td>0.000000</td>\n",
       "    </tr>\n",
       "    <tr>\n",
       "      <th>25%</th>\n",
       "      <td>0.350000</td>\n",
       "      <td>0.173077</td>\n",
       "      <td>0.238095</td>\n",
       "    </tr>\n",
       "    <tr>\n",
       "      <th>50%</th>\n",
       "      <td>0.585714</td>\n",
       "      <td>0.265734</td>\n",
       "      <td>0.428571</td>\n",
       "    </tr>\n",
       "    <tr>\n",
       "      <th>75%</th>\n",
       "      <td>0.721429</td>\n",
       "      <td>0.304196</td>\n",
       "      <td>0.642857</td>\n",
       "    </tr>\n",
       "    <tr>\n",
       "      <th>max</th>\n",
       "      <td>1.000000</td>\n",
       "      <td>1.000000</td>\n",
       "      <td>1.000000</td>\n",
       "    </tr>\n",
       "  </tbody>\n",
       "</table>\n",
       "</div>"
      ],
      "text/plain": [
       "            var1       var2       var3\n",
       "count  20.000000  20.000000  21.000000\n",
       "mean    0.540000   0.275874   0.454649\n",
       "std     0.295894   0.208183   0.254206\n",
       "min     0.000000   0.000000   0.000000\n",
       "25%     0.350000   0.173077   0.238095\n",
       "50%     0.585714   0.265734   0.428571\n",
       "75%     0.721429   0.304196   0.642857\n",
       "max     1.000000   1.000000   1.000000"
      ]
     },
     "execution_count": 13,
     "metadata": {},
     "output_type": "execute_result"
    },
    {
     "data": {
      "image/png": "[encoded data removed]",
      "text/plain": [
       "<Figure size 640x480 with 1 Axes>"
      ]
     },
     "metadata": {},
     "output_type": "display_data"
    }
   ],
   "source": [
    "sns.boxplot(data=df_mm, palette='Purples')\n",
    "sns.stripplot(data=df_mm,marker='.',color='k')\n",
    "df_mm.describe()"
   ]
  },
  {
   "cell_type": "code",
   "execution_count": 29,
   "metadata": {
    "id": "UR_zsOtN69b6"
   },
   "outputs": [
    {
     "data": {
      "text/plain": [
       "(-0.5, 17.3)"
      ]
     },
     "execution_count": 29,
     "metadata": {},
     "output_type": "execute_result"
    }
   ],
   "source": [
    "# in scikit-learn\n",
    "from sklearn.preprocessing import MinMaxScaler\n",
    "\n",
    "# make some data\n",
    "data = np.random.randn(500,1)\n",
    "\n",
    "# create the scalar isntance\n",
    "#this is a class and we create an instance of that particular class\n",
    "scalarfun = MinMaxScaler((-.5,17.3))#you can specify the minimum and the maxim value!-.5 is -0.5\n",
    "\n",
    "# apply it to data\n",
    "scalarfun.fit(data)\n",
    "data_s = scalarfun.transform(data)\n",
    "\n",
    "# print out minimum and maximum values\n",
    "data_s.min(),data_s.max()"
   ]
  },
  {
   "cell_type": "code",
   "execution_count": null,
   "metadata": {
    "id": "VKm0Us-lZq-c"
   },
   "outputs": [],
   "source": [
    "h = sns.boxplot(data=[data,data_s], palette='Purples')\n",
    "sns.stripplot(data=[data,data_s],marker='.',color='k')\n",
    "h.set_xticklabels(['Original','Scaled'])\n",
    "plt.show()"
   ]
  },
  {
   "cell_type": "code",
   "execution_count": null,
   "metadata": {
    "id": "sLOiF3zIaj_X"
   },
   "outputs": [],
   "source": []
  },
  {
   "cell_type": "markdown",
   "metadata": {
    "id": "5qKM7U6169ei"
   },
   "source": [
    "# Binning"
   ]
  },
  {
   "cell_type": "code",
   "execution_count": 33,
   "metadata": {
    "id": "OZhpAu1lY_AI"
   },
   "outputs": [
    {
     "name": "stdout",
     "output_type": "stream",
     "text": [
      "[-3.23002258  0.09835621  3.426735  ]\n",
      "[282 218]\n",
      "[0.564 0.436]\n"
     ]
    }
   ],
   "source": [
    "# numpy's histogram\n",
    "\n",
    "# get the bin counts\n",
    "bincounts,boundaries = np.histogram(data,bins=2)\n",
    "#we specify we have 2 bins . the first one has 282 data points and the second one 218\n",
    "#first bin goes from -3.23002258 to 0.09835621\n",
    "#second bin goes from 0.09835621 to 3.426735\n",
    "#that's why we have 3 values here\n",
    "# (optional) convert to proportion\n",
    "proportion = bincounts / np.sum(bincounts)\n",
    "\n",
    "print(boundaries)\n",
    "print(bincounts)\n",
    "print(proportion)"
   ]
  },
  {
   "cell_type": "code",
   "execution_count": null,
   "metadata": {
    "id": "QnHZa6SjCeCK"
   },
   "outputs": [],
   "source": [
    "# but we need the individual data values...\n",
    "\n",
    "# specify the bin boundaries\n",
    "nbins = 5\n",
    "boundaries = np.linspace( np.min(data),np.max(data)*1.01,nbins+1 )\n",
    "\n",
    "# bin the data\n",
    "binvalues = np.digitize(data,boundaries)\n",
    "\n",
    "# and plot\n",
    "plt.plot(binvalues,data,'o')\n",
    "plt.xticks(np.arange(1,nbins+1))\n",
    "plt.xlim([0,nbins+1])\n",
    "plt.xlabel('Binned values')\n",
    "plt.ylabel('Original values')\n",
    "plt.show()"
   ]
  },
  {
   "cell_type": "code",
   "execution_count": null,
   "metadata": {
    "id": "kgBnW2W9ciQ0"
   },
   "outputs": [],
   "source": []
  },
  {
   "cell_type": "markdown",
   "metadata": {
    "id": "H73MR0cQ69jr"
   },
   "source": [
    "# Unit normalization"
   ]
  },
  {
   "cell_type": "code",
   "execution_count": null,
   "metadata": {
    "id": "ewNpjmubFWdj"
   },
   "outputs": [],
   "source": [
    "# in numpy\n",
    "\n",
    "# get the data norm\n",
    "norm = np.linalg.norm(data)\n",
    "print(f'Original data norm: {norm:.3f}')\n",
    "\n",
    "# norm the data\n",
    "data_u = data / norm\n",
    "print(f'Unit-normed data norm: {np.linalg.norm(data_u):.3f}')\n",
    "\n",
    "\n",
    "# and plot\n",
    "plt.plot(data,data_u,'o')\n",
    "plt.xlabel('Original')\n",
    "plt.ylabel('Unit-normed')\n",
    "plt.title(f'Correlation: {np.corrcoef(data.T,data_u.T)[0,1]}')\n",
    "plt.show()"
   ]
  },
  {
   "cell_type": "code",
   "execution_count": null,
   "metadata": {
    "id": "XUEf9vbidAsc"
   },
   "outputs": [],
   "source": [
    "# in pandas\n",
    "\n",
    "# uh oh...\n",
    "norms = np.linalg.norm(df)\n",
    "norms"
   ]
  },
  {
   "cell_type": "code",
   "execution_count": null,
   "metadata": {
    "id": "t5CnIEJYhw7I"
   },
   "outputs": [],
   "source": [
    "# do it manually\n",
    "norms = np.sqrt(np.sum(np.square(df)))\n",
    "norms\n",
    "\n",
    "df_u = df.divide(norms)\n",
    "df_u"
   ]
  },
  {
   "cell_type": "code",
   "execution_count": null,
   "metadata": {
    "id": "O5mjtnh6IIEl"
   },
   "outputs": [],
   "source": []
  },
  {
   "cell_type": "markdown",
   "metadata": {
    "id": "aJ5GnewC69rU"
   },
   "source": [
    "# Rank transform"
   ]
  },
  {
   "cell_type": "code",
   "execution_count": null,
   "metadata": {
    "id": "DJ8mnO1zQLUs"
   },
   "outputs": [],
   "source": [
    "# in scipy\n",
    "from scipy.stats import rankdata\n",
    "\n",
    "data_rank = rankdata(data)\n",
    "\n",
    "fig,axs = plt.subplots(1,2,figsize=(15,6))\n",
    "\n",
    "axs[0].plot(np.sort(data,axis=0),'o')\n",
    "axs[0].set_title('Sorted original data')\n",
    "axs[0].set_xlabel('Data index')\n",
    "axs[0].set_ylabel('Data value')\n",
    "\n",
    "axs[1].plot(np.sort(data_rank),'o')\n",
    "axs[1].set_title('Sorted rank-transformed data')\n",
    "axs[1].set_xlabel('Data index')\n",
    "axs[1].set_ylabel('Data value')\n",
    "\n",
    "plt.show()"
   ]
  },
  {
   "cell_type": "code",
   "execution_count": null,
   "metadata": {
    "id": "m6Zn3T9Ci_me"
   },
   "outputs": [],
   "source": [
    "# in pandas\n",
    "\n",
    "df.rank()"
   ]
  },
  {
   "cell_type": "code",
   "execution_count": null,
   "metadata": {
    "id": "xLGALxp4QLpb"
   },
   "outputs": [],
   "source": []
  }
 ],
 "metadata": {
  "colab": {
   "authorship_tag": "ABX9TyPT+ULfJ+BK4MpmnyJGBd1E",
   "name": "TransformingData.ipynb",
   "provenance": [
    {
     "file_id": "1L7WyFHbKQK1TCZl9OJGKyqvPRXRuTndb",
     "timestamp": 1648031048259
    },
    {
     "file_id": "1fqhasddtPkcvxsMS5lg_kb5j6PXSG6_3",
     "timestamp": 1647862234797
    }
   ]
  },
  "kernelspec": {
   "display_name": "Python 3 (ipykernel)",
   "language": "python",
   "name": "python3"
  },
  "language_info": {
   "codemirror_mode": {
    "name": "ipython",
    "version": 3
   },
   "file_extension": ".py",
   "mimetype": "text/x-python",
   "name": "python",
   "nbconvert_exporter": "python",
   "pygments_lexer": "ipython3",
   "version": "3.8.13"
  }
 },
 "nbformat": 4,
 "nbformat_minor": 1
}
