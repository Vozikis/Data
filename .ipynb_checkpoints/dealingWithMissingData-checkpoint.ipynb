{
 "cells": [
  {
   "cell_type": "markdown",
   "metadata": {
    "id": "bhWV8oes-wKR"
   },
   "source": [
    "# COURSE: Improving data quality in data analytics & machine learning\n",
    "## SECTION: Outliers and missing data\n",
    "### LECTURE: Code: Dealing with bad or missing data\n",
    "#### TEACHER: Mike X Cohen, sincxpress.com\n",
    "##### COURSE URL: udemy.com/course/dataquality_x/?couponCode=202204"
   ]
  },
  {
   "cell_type": "code",
   "execution_count": 1,
   "metadata": {
    "id": "7oCtFP6M3DLi"
   },
   "outputs": [],
   "source": [
    "# import libraries\n",
    "\n",
    "import numpy as np\n",
    "import matplotlib.pyplot as plt\n",
    "import pandas as pd\n",
    "# import seaborn as sns"
   ]
  },
  {
   "cell_type": "markdown",
   "metadata": {
    "id": "01zPi2S16cWS"
   },
   "source": [
    "# Import the data"
   ]
  },
  {
   "cell_type": "code",
   "execution_count": 2,
   "metadata": {
    "id": "3s0VAZRx3qJU"
   },
   "outputs": [
    {
     "data": {
      "text/html": [
       "<div>\n",
       "<style scoped>\n",
       "    .dataframe tbody tr th:only-of-type {\n",
       "        vertical-align: middle;\n",
       "    }\n",
       "\n",
       "    .dataframe tbody tr th {\n",
       "        vertical-align: top;\n",
       "    }\n",
       "\n",
       "    .dataframe thead th {\n",
       "        text-align: right;\n",
       "    }\n",
       "</style>\n",
       "<table border=\"1\" class=\"dataframe\">\n",
       "  <thead>\n",
       "    <tr style=\"text-align: right;\">\n",
       "      <th></th>\n",
       "      <th>var1</th>\n",
       "      <th>var2</th>\n",
       "      <th>var3</th>\n",
       "    </tr>\n",
       "  </thead>\n",
       "  <tbody>\n",
       "    <tr>\n",
       "      <th>0</th>\n",
       "      <td>-5.0</td>\n",
       "      <td>15.0</td>\n",
       "      <td>-5</td>\n",
       "    </tr>\n",
       "    <tr>\n",
       "      <th>1</th>\n",
       "      <td>-13.0</td>\n",
       "      <td>11.0</td>\n",
       "      <td>-8</td>\n",
       "    </tr>\n",
       "    <tr>\n",
       "      <th>2</th>\n",
       "      <td>0.0</td>\n",
       "      <td>1.0</td>\n",
       "      <td>12</td>\n",
       "    </tr>\n",
       "    <tr>\n",
       "      <th>3</th>\n",
       "      <td>9.0</td>\n",
       "      <td>22.0</td>\n",
       "      <td>15</td>\n",
       "    </tr>\n",
       "    <tr>\n",
       "      <th>4</th>\n",
       "      <td>4.0</td>\n",
       "      <td>0.0</td>\n",
       "      <td>6</td>\n",
       "    </tr>\n",
       "    <tr>\n",
       "      <th>5</th>\n",
       "      <td>-7.0</td>\n",
       "      <td>24.0</td>\n",
       "      <td>0</td>\n",
       "    </tr>\n",
       "    <tr>\n",
       "      <th>6</th>\n",
       "      <td>-16.0</td>\n",
       "      <td>46.0</td>\n",
       "      <td>-15</td>\n",
       "    </tr>\n",
       "    <tr>\n",
       "      <th>7</th>\n",
       "      <td>15.0</td>\n",
       "      <td>29.0</td>\n",
       "      <td>14</td>\n",
       "    </tr>\n",
       "    <tr>\n",
       "      <th>8</th>\n",
       "      <td>15.0</td>\n",
       "      <td>29.0</td>\n",
       "      <td>14</td>\n",
       "    </tr>\n",
       "    <tr>\n",
       "      <th>9</th>\n",
       "      <td>NaN</td>\n",
       "      <td>-14.0</td>\n",
       "      <td>27</td>\n",
       "    </tr>\n",
       "    <tr>\n",
       "      <th>10</th>\n",
       "      <td>1.0</td>\n",
       "      <td>26.0</td>\n",
       "      <td>3</td>\n",
       "    </tr>\n",
       "    <tr>\n",
       "      <th>11</th>\n",
       "      <td>-10.0</td>\n",
       "      <td>129.0</td>\n",
       "      <td>-5</td>\n",
       "    </tr>\n",
       "    <tr>\n",
       "      <th>12</th>\n",
       "      <td>12.0</td>\n",
       "      <td>24.0</td>\n",
       "      <td>20</td>\n",
       "    </tr>\n",
       "    <tr>\n",
       "      <th>13</th>\n",
       "      <td>-6.0</td>\n",
       "      <td>57.0</td>\n",
       "      <td>-1</td>\n",
       "    </tr>\n",
       "    <tr>\n",
       "      <th>14</th>\n",
       "      <td>-5.0</td>\n",
       "      <td>NaN</td>\n",
       "      <td>2</td>\n",
       "    </tr>\n",
       "    <tr>\n",
       "      <th>15</th>\n",
       "      <td>9.0</td>\n",
       "      <td>12.0</td>\n",
       "      <td>8</td>\n",
       "    </tr>\n",
       "    <tr>\n",
       "      <th>16</th>\n",
       "      <td>-14.0</td>\n",
       "      <td>10.0</td>\n",
       "      <td>-8</td>\n",
       "    </tr>\n",
       "    <tr>\n",
       "      <th>17</th>\n",
       "      <td>-20.0</td>\n",
       "      <td>24.0</td>\n",
       "      <td>-10</td>\n",
       "    </tr>\n",
       "    <tr>\n",
       "      <th>18</th>\n",
       "      <td>4.0</td>\n",
       "      <td>-5.0</td>\n",
       "      <td>10</td>\n",
       "    </tr>\n",
       "    <tr>\n",
       "      <th>19</th>\n",
       "      <td>4.0</td>\n",
       "      <td>31.0</td>\n",
       "      <td>3</td>\n",
       "    </tr>\n",
       "    <tr>\n",
       "      <th>20</th>\n",
       "      <td>1.0</td>\n",
       "      <td>38.0</td>\n",
       "      <td>4</td>\n",
       "    </tr>\n",
       "  </tbody>\n",
       "</table>\n",
       "</div>"
      ],
      "text/plain": [
       "    var1   var2  var3\n",
       "0   -5.0   15.0    -5\n",
       "1  -13.0   11.0    -8\n",
       "2    0.0    1.0    12\n",
       "3    9.0   22.0    15\n",
       "4    4.0    0.0     6\n",
       "5   -7.0   24.0     0\n",
       "6  -16.0   46.0   -15\n",
       "7   15.0   29.0    14\n",
       "8   15.0   29.0    14\n",
       "9    NaN  -14.0    27\n",
       "10   1.0   26.0     3\n",
       "11 -10.0  129.0    -5\n",
       "12  12.0   24.0    20\n",
       "13  -6.0   57.0    -1\n",
       "14  -5.0    NaN     2\n",
       "15   9.0   12.0     8\n",
       "16 -14.0   10.0    -8\n",
       "17 -20.0   24.0   -10\n",
       "18   4.0   -5.0    10\n",
       "19   4.0   31.0     3\n",
       "20   1.0   38.0     4"
      ]
     },
     "execution_count": 2,
     "metadata": {},
     "output_type": "execute_result"
    }
   ],
   "source": [
    "# import the data from the web\n",
    "url = \"https://sincxpress.com/sampledata.csv\"\n",
    "df = pd.read_csv(url)\n",
    "\n",
    "df"
   ]
  },
  {
   "cell_type": "markdown",
   "metadata": {
    "id": "KADMAawkVPPt"
   },
   "source": [
    "# Z-score to find outliers"
   ]
  },
  {
   "cell_type": "code",
   "execution_count": null,
   "metadata": {
    "id": "4FyQXkOx4TMI"
   },
   "outputs": [],
   "source": [
    "# create new columns as z-scored versions\n",
    "\n",
    "# create a lambda function (a simple one-line function)\n",
    "zscore = lambda x: (x-x.mean()) / x.std()\n",
    "\n",
    "# loop through the variables in the dataframe\n",
    "for c in df.columns:\n",
    "  # apply the zscore function and map to a new column\n",
    "  df[c+'_z'] = zscore(df[c])\n",
    "\n",
    "# let's have a look!\n",
    "print( df )\n",
    "df.describe()"
   ]
  },
  {
   "cell_type": "code",
   "execution_count": null,
   "metadata": {
    "id": "BBYPCRs3WM_b"
   },
   "outputs": [],
   "source": [
    "# check for outliers\n",
    "\n",
    "zThresh = 3\n",
    "np.abs(df) > zThresh"
   ]
  },
  {
   "cell_type": "code",
   "execution_count": null,
   "metadata": {
    "id": "jdh0nXDKV3iz"
   },
   "outputs": [],
   "source": [
    "# find outliers\n",
    "\n",
    "row2kill = np.array([])\n",
    "\n",
    "for c in df.columns:\n",
    "  if c[-1]=='z':\n",
    "\n",
    "    # find the outliers and update the list of rows to reject\n",
    "    hasoutliers = np.where(np.abs(df[c])>zThresh)[0]\n",
    "    row2kill = np.append(row2kill,hasoutliers)\n",
    "\n",
    "    # print a message\n",
    "    print(f'{c[:-2]} has an outlier (z>{zThresh}) in row(s) {hasoutliers}')\n",
    "\n",
    "\n",
    "# let's see all the rows to reject:\n",
    "row2kill"
   ]
  },
  {
   "cell_type": "code",
   "execution_count": null,
   "metadata": {
    "id": "IHkaol28UY8i"
   },
   "outputs": [],
   "source": [
    "# remove those rows\n",
    "df_dropped = df.drop(row2kill)\n",
    "\n",
    "df_dropped.describe()"
   ]
  },
  {
   "cell_type": "markdown",
   "metadata": {
    "id": "l7XPB89yl-Zt"
   },
   "source": [
    "# Drop rows with NaN"
   ]
  },
  {
   "cell_type": "code",
   "execution_count": null,
   "metadata": {
    "id": "Uer19N4el-uY"
   },
   "outputs": [],
   "source": [
    "df_na_dropped = df.dropna()\n",
    "\n",
    "df_na_dropped"
   ]
  },
  {
   "cell_type": "code",
   "execution_count": null,
   "metadata": {
    "id": "aItbPmNml-zI"
   },
   "outputs": [],
   "source": []
  },
  {
   "cell_type": "markdown",
   "metadata": {
    "id": "YUtcMc2WVSyF"
   },
   "source": [
    "# Interpolating missing data"
   ]
  },
  {
   "cell_type": "code",
   "execution_count": null,
   "metadata": {
    "id": "Fg1K_Sgimjoj"
   },
   "outputs": [],
   "source": [
    "df['var1']#.fillna( df['var1'].mean() )"
   ]
  },
  {
   "cell_type": "code",
   "execution_count": null,
   "metadata": {
    "id": "yBuc1y-1UqU2"
   },
   "outputs": [],
   "source": [
    "# make a copy\n",
    "df_interp = df.copy()\n",
    "\n",
    "# replace NaN's column-wise\n",
    "for c in df.columns:\n",
    "  df_interp[c] = df[c].fillna( df[c].mean())\n",
    "\n",
    "# show the results!\n",
    "df_interp"
   ]
  },
  {
   "cell_type": "code",
   "execution_count": null,
   "metadata": {
    "id": "xLGALxp4QLpb"
   },
   "outputs": [],
   "source": []
  }
 ],
 "metadata": {
  "colab": {
   "authorship_tag": "ABX9TyOHPAMsVkW/d+R5/yaHzXcs",
   "name": "dealingWithMissingData.ipynb",
   "provenance": [
    {
     "file_id": "1xbtnfSdZOenRGBXSl8z7Evmx_eMt_dUM",
     "timestamp": 1648046848999
    },
    {
     "file_id": "1L7WyFHbKQK1TCZl9OJGKyqvPRXRuTndb",
     "timestamp": 1648031048259
    },
    {
     "file_id": "1fqhasddtPkcvxsMS5lg_kb5j6PXSG6_3",
     "timestamp": 1647862234797
    }
   ]
  },
  "kernelspec": {
   "display_name": "Python 3 (ipykernel)",
   "language": "python",
   "name": "python3"
  },
  "language_info": {
   "codemirror_mode": {
    "name": "ipython",
    "version": 3
   },
   "file_extension": ".py",
   "mimetype": "text/x-python",
   "name": "python",
   "nbconvert_exporter": "python",
   "pygments_lexer": "ipython3",
   "version": "3.8.13"
  }
 },
 "nbformat": 4,
 "nbformat_minor": 1
}
